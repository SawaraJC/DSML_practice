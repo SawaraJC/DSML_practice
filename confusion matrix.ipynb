{
 "cells": [
  {
   "cell_type": "code",
   "execution_count": 1,
   "id": "31b091a9",
   "metadata": {},
   "outputs": [
    {
     "name": "stdout",
     "output_type": "stream",
     "text": [
      "Accuracy: 0.9100\n",
      "Error Rate: 0.0900\n",
      "Precision: 0.5000\n",
      "Recall: 0.1111\n"
     ]
    }
   ],
   "source": [
    "import pandas as pd\n",
    "\n",
    "# Create a confusion matrix\n",
    "confusion_matrix = pd.DataFrame({\n",
    "    'Actual Positive': [1, 8],\n",
    "    'Actual Negative': [1, 90]\n",
    "}, index=['Predicted Positive', 'Predicted Negative'])\n",
    "\n",
    "# Extract values from the confusion matrix\n",
    "TP = confusion_matrix.loc['Predicted Positive', 'Actual Positive']\n",
    "FP = confusion_matrix.loc['Predicted Positive', 'Actual Negative']\n",
    "FN = confusion_matrix.loc['Predicted Negative', 'Actual Positive']\n",
    "TN = confusion_matrix.loc['Predicted Negative', 'Actual Negative']\n",
    "\n",
    "# Calculate metrics\n",
    "accuracy = (TP + TN) / (TP + FP + FN + TN)\n",
    "error_rate = (FP + FN) / (TP + FP + FN + TN)\n",
    "precision = TP / (TP + FP)\n",
    "recall = TP / (TP + FN)\n",
    "\n",
    "# Print the results\n",
    "print(f'Accuracy: {accuracy:.4f}')\n",
    "print(f'Error Rate: {error_rate:.4f}')\n",
    "print(f'Precision: {precision:.4f}')\n",
    "print(f'Recall: {recall:.4f}')\n"
   ]
  },
  {
   "cell_type": "code",
   "execution_count": 6,
   "id": "11d13b83",
   "metadata": {},
   "outputs": [
    {
     "name": "stdout",
     "output_type": "stream",
     "text": [
      "0.91\n",
      "0.09\n",
      "0.5\n",
      "0.1111111111111111\n"
     ]
    }
   ],
   "source": [
    "import pandas as pd\n",
    "\n",
    "confusion = pd.DataFrame({\n",
    "    'Actual Positive': [1,8],\n",
    "    'Actual Negative': [1,90]\n",
    "}, index=['Predicted Positive', 'Predicted Negative'])\n",
    "\n",
    "TP = confusion.loc['Predicted Positive', 'Actual Positive']\n",
    "TN = confusion.loc['Predicted Negative', 'Actual Negative']\n",
    "FP = confusion.loc['Predicted Positive', 'Actual Negative']\n",
    "FN = confusion.loc['Predicted Negative', 'Actual Positive']\n",
    "\n",
    "accuracy = (TP+TN)/(TP+TN+FN+FP)\n",
    "error = (FP+FN)/(TP+TN+FN+FP)\n",
    "precision = (TP)/(TP+FP)\n",
    "recall = (TP)/(TP+FN)\n",
    "\n",
    "print(accuracy)\n",
    "print(error)\n",
    "print(precision)\n",
    "print(recall)"
   ]
  },
  {
   "cell_type": "code",
   "execution_count": 7,
   "id": "7b85d225",
   "metadata": {},
   "outputs": [
    {
     "name": "stdout",
     "output_type": "stream",
     "text": [
      "0.91\n",
      "0.09\n",
      "0.5\n",
      "0.1111111111111111\n"
     ]
    }
   ],
   "source": [
    "import pandas as pd\n",
    "\n",
    "confusion = pd.DataFrame({\n",
    "    'Actual Positive':[1,8],\n",
    "    'Actual Negative':[1,90]\n",
    "}, index = ['Predicted Positive','Predicted Negative'])\n",
    "\n",
    "tp = confusion.loc['Predicted Positive', 'Actual Positive']\n",
    "tn = confusion.loc['Predicted Negative', 'Actual Negative']\n",
    "fp = confusion.loc['Predicted Positive', 'Actual Negative']\n",
    "fn = confusion.loc['Predicted Negative', 'Actual Positive']\n",
    "\n",
    "accuracy = (tp+tn)/(tp+tn+fn+fp)\n",
    "error = (fp+fn)/(fp+fn+tp+tn)\n",
    "precision = (tp)/(tp+fp)\n",
    "recall = (tp)/(tp+fn)\n",
    "\n",
    "print(accuracy)\n",
    "print(error)\n",
    "print(precision)\n",
    "print(recall)"
   ]
  },
  {
   "cell_type": "code",
   "execution_count": null,
   "id": "d52d34e4",
   "metadata": {},
   "outputs": [],
   "source": []
  }
 ],
 "metadata": {
  "kernelspec": {
   "display_name": "Python 3 (ipykernel)",
   "language": "python",
   "name": "python3"
  },
  "language_info": {
   "codemirror_mode": {
    "name": "ipython",
    "version": 3
   },
   "file_extension": ".py",
   "mimetype": "text/x-python",
   "name": "python",
   "nbconvert_exporter": "python",
   "pygments_lexer": "ipython3",
   "version": "3.9.7"
  }
 },
 "nbformat": 4,
 "nbformat_minor": 5
}
